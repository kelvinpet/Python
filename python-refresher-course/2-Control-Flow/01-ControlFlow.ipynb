{
 "cells": [
  {
   "cell_type": "markdown",
   "metadata": {
    "vscode": {
     "languageId": "plaintext"
    }
   },
   "source": [
    "#### Conditional Statements (if, elif, else)\n",
    "Outline:\n",
    "1. Introduction to Conditional Statements\n",
    "2. if Statement\n",
    "3. else Statement\n",
    "4. elif Statement\n",
    "5. Nested Conditional Statements\n",
    "6. Practical Examples\n",
    "7. Common Errors and Best Practices"
   ]
  },
  {
   "cell_type": "code",
   "execution_count": 2,
   "metadata": {},
   "outputs": [],
   "source": [
    "age = 10\n",
    "\n",
    "if age > 20:\n",
    "    print(\"You can attend Sail onboarding\")"
   ]
  },
  {
   "cell_type": "code",
   "execution_count": 3,
   "metadata": {},
   "outputs": [
    {
     "name": "stdout",
     "output_type": "stream",
     "text": [
      "You can not attend Sail onboarding\n"
     ]
    }
   ],
   "source": [
    "age = 10\n",
    "\n",
    "if age > 20:\n",
    "    print(\"You can attend Sail onboarding\")\n",
    "else:\n",
    "    print(\"You can not attend Sail onboarding\")"
   ]
  },
  {
   "cell_type": "code",
   "execution_count": 4,
   "metadata": {},
   "outputs": [
    {
     "name": "stdout",
     "output_type": "stream",
     "text": [
      "You are on the edge\n"
     ]
    }
   ],
   "source": [
    "age = 20\n",
    "\n",
    "if age > 20:\n",
    "    print(\"You can attend Sail onboarding\")\n",
    "elif age == 20:\n",
    "    print(\"You are on the edge\")\n",
    "else:\n",
    "    print(\"You can not attend Sail onboarding\")"
   ]
  },
  {
   "cell_type": "code",
   "execution_count": 7,
   "metadata": {},
   "outputs": [
    {
     "name": "stdout",
     "output_type": "stream",
     "text": [
      "You can attend Sail onboarding\n"
     ]
    }
   ],
   "source": [
    "age = int(input(\"Enter your age: \"))\n",
    "\n",
    "# Check the requirements\n",
    "if age > 20:\n",
    "    print(\"You can attend Sail onboarding\")\n",
    "elif age == 20:\n",
    "    print(\"You are on the edge\")\n",
    "else:\n",
    "    print(\"You can not attend Sail onboarding\")"
   ]
  },
  {
   "cell_type": "code",
   "execution_count": 15,
   "metadata": {},
   "outputs": [
    {
     "name": "stdout",
     "output_type": "stream",
     "text": [
      "Number is Neutral\n"
     ]
    }
   ],
   "source": [
    "## Nested Condition Statements\n",
    "\n",
    "# A program to check if a number is even or odd\n",
    "\n",
    "# prompt user to enter a number\n",
    "num = int(input(\"Enter a number: \"))\n",
    "\n",
    "# first check if it's positive or negative\n",
    "if num > 0:\n",
    "    # check if it's even or odd\n",
    "    if num % 2 == 0:\n",
    "        print(\"Number is Even\")\n",
    "    else:\n",
    "        print(\"Number is Odd\")\n",
    "elif num == 0:\n",
    "    print(\"Number is Neutral\")\n",
    "else:\n",
    "    print(\"Number is Negative\")"
   ]
  },
  {
   "cell_type": "code",
   "execution_count": null,
   "metadata": {},
   "outputs": [],
   "source": []
  },
  {
   "cell_type": "code",
   "execution_count": null,
   "metadata": {},
   "outputs": [],
   "source": []
  }
 ],
 "metadata": {
  "kernelspec": {
   "display_name": "base",
   "language": "python",
   "name": "python3"
  },
  "language_info": {
   "codemirror_mode": {
    "name": "ipython",
    "version": 3
   },
   "file_extension": ".py",
   "mimetype": "text/x-python",
   "name": "python",
   "nbconvert_exporter": "python",
   "pygments_lexer": "ipython3",
   "version": "3.12.4"
  }
 },
 "nbformat": 4,
 "nbformat_minor": 2
}
